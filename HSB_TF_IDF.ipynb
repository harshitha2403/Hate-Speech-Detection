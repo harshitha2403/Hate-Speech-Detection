{
  "cells": [
    {
      "cell_type": "markdown",
      "metadata": {
        "id": "view-in-github",
        "colab_type": "text"
      },
      "source": [
        "<a href=\"https://colab.research.google.com/github/harshitha2403/Hate-Speech-Detection/blob/main/HSB_TF_IDF.ipynb\" target=\"_parent\"><img src=\"https://colab.research.google.com/assets/colab-badge.svg\" alt=\"Open In Colab\"/></a>"
      ]
    },
    {
      "cell_type": "markdown",
      "id": "16fc677a-bcf9-4eab-a203-84699d8a0d66",
      "metadata": {
        "id": "16fc677a-bcf9-4eab-a203-84699d8a0d66"
      },
      "source": [
        "Balanced dataset\n",
        "“0″ means non-hateful\n",
        "“1″ means hateful"
      ]
    },
    {
      "cell_type": "code",
      "execution_count": null,
      "id": "9bff2575-8e68-4ba5-930b-cd2d4cecd130",
      "metadata": {
        "id": "9bff2575-8e68-4ba5-930b-cd2d4cecd130",
        "outputId": "a29fbe7e-45e5-499d-f22c-b71ee6d343f5"
      },
      "outputs": [
        {
          "name": "stderr",
          "output_type": "stream",
          "text": [
            "[nltk_data] Downloading package stopwords to\n",
            "[nltk_data]     C:\\Users\\HARSHITHA\\AppData\\Roaming\\nltk_data...\n",
            "[nltk_data]   Package stopwords is already up-to-date!\n"
          ]
        }
      ],
      "source": [
        "import numpy as np\n",
        "import pandas as pd\n",
        "import matplotlib.pyplot as plt\n",
        "import seaborn as sns\n",
        "import warnings\n",
        "from sklearn.feature_extraction.text import CountVectorizer\n",
        "import re\n",
        "from tqdm import tqdm\n",
        "from gensim.models.doc2vec import TaggedDocument\n",
        "import nltk\n",
        "nltk.download('stopwords')\n",
        "from nltk.corpus import stopwords\n",
        "from nltk.stem.porter import PorterStemmer\n",
        "from sklearn.model_selection import train_test_split\n",
        "from sklearn.preprocessing import StandardScaler\n",
        "from sklearn.ensemble import RandomForestClassifier\n",
        "from sklearn.metrics import confusion_matrix\n",
        "from sklearn.metrics import f1_score, classification_report\n",
        "from sklearn.linear_model import LogisticRegression\n",
        "from sklearn.tree import DecisionTreeClassifier\n",
        "from sklearn.svm import SVC"
      ]
    },
    {
      "cell_type": "code",
      "execution_count": null,
      "id": "1a2fec04-fe11-43eb-8f22-e44c206ac965",
      "metadata": {
        "id": "1a2fec04-fe11-43eb-8f22-e44c206ac965",
        "outputId": "ec1771b0-1ca2-41f7-9bf0-510d3f598e68"
      },
      "outputs": [
        {
          "name": "stdout",
          "output_type": "stream",
          "text": [
            "(37500, 2)\n",
            "(12500, 2)\n"
          ]
        }
      ],
      "source": [
        "import pandas as pd\n",
        "train = pd.read_csv('C:/Users/HARSHITHA/Desktop/Final_code/HateSpeech/trainHSB.csv')\n",
        "test = pd.read_csv('C:/Users/HARSHITHA/Desktop/Final_code/HateSpeech/testHSB.csv')\n",
        "print(train.shape)\n",
        "print(test.shape)"
      ]
    },
    {
      "cell_type": "code",
      "execution_count": null,
      "id": "00a5b524-70ca-496e-8472-96e6b02d079b",
      "metadata": {
        "id": "00a5b524-70ca-496e-8472-96e6b02d079b"
      },
      "outputs": [],
      "source": [
        "import string\n",
        "stopword=set(stopwords.words('english'))\n",
        "stemmer = nltk.SnowballStemmer(\"english\")\n",
        "def clean(text):\n",
        "    text = str(text).lower()\n",
        "    text = re.sub(r'https?://\\S+|www\\.\\S+', '', text)  # Use raw string\n",
        "    text = re.sub(r'<.*?>+', '', text)                # Use raw string\n",
        "    text = re.sub(r'[%s]' % re.escape(string.punctuation), '', text)  # OK, already using re.escape\n",
        "    text = re.sub(r'\\n', '', text)                    # Use raw string\n",
        "    text = re.sub(r'\\w*\\d\\w*', '', text)              # Use raw string\n",
        "    text = [word for word in text.split(' ') if word not in stopword]\n",
        "    text = \" \".join(text)\n",
        "    text = [stemmer.stem(word) for word in text.split(' ')]\n",
        "    text = \" \".join(text)\n",
        "    return text\n",
        "train[\"text\"] = train[\"text\"].apply(clean)"
      ]
    },
    {
      "cell_type": "code",
      "execution_count": null,
      "id": "6df3e9ab-ac0c-4324-8ca2-e77b9a0e4343",
      "metadata": {
        "id": "6df3e9ab-ac0c-4324-8ca2-e77b9a0e4343"
      },
      "outputs": [],
      "source": [
        "x_train= train['text']\n",
        "y_train = train['label']\n",
        "x_test= test['text']\n",
        "y_test = test['label']"
      ]
    },
    {
      "cell_type": "code",
      "execution_count": null,
      "id": "350bc674-2e19-4f67-87bc-55e6a511f3a4",
      "metadata": {
        "id": "350bc674-2e19-4f67-87bc-55e6a511f3a4"
      },
      "outputs": [],
      "source": [
        "from sklearn.feature_extraction.text import TfidfVectorizer\n",
        "import numpy as np\n",
        "\n",
        "tfidf = TfidfVectorizer(binary=True)\n",
        "\n",
        "Tfidf_vect = TfidfVectorizer(max_features=5000)\n",
        "Tfidf_vect.fit(x_train)\n",
        "Train_X_Tfidf = Tfidf_vect.transform(x_train)\n",
        "Test_X_Tfidf = Tfidf_vect.transform(x_test)"
      ]
    },
    {
      "cell_type": "code",
      "execution_count": null,
      "id": "da80d828-bacb-4628-a7db-45a544fe92a2",
      "metadata": {
        "id": "da80d828-bacb-4628-a7db-45a544fe92a2",
        "outputId": "89b253ad-b5f6-4e70-a2f9-0c5da9dcafeb"
      },
      "outputs": [
        {
          "name": "stdout",
          "output_type": "stream",
          "text": [
            "(37500, 5000)\n",
            "(12500, 5000)\n",
            "(37500,)\n",
            "(12500,)\n"
          ]
        }
      ],
      "source": [
        "print(Train_X_Tfidf.shape)\n",
        "print(Test_X_Tfidf.shape)\n",
        "print(y_train.shape)\n",
        "print(y_test.shape)"
      ]
    },
    {
      "cell_type": "code",
      "execution_count": null,
      "id": "bbbf48a3-18ef-4761-a509-e3d267c44746",
      "metadata": {
        "id": "bbbf48a3-18ef-4761-a509-e3d267c44746",
        "outputId": "b5b37ecd-b358-4283-cfe2-5acd5a50987e"
      },
      "outputs": [
        {
          "name": "stdout",
          "output_type": "stream",
          "text": [
            "Training Accuracy : 0.9955733333333333\n",
            "Testing Accuracy : 1.0\n",
            "              precision    recall  f1-score   support\n",
            "\n",
            "           0       0.79      0.77      0.78      6244\n",
            "           1       0.78      0.79      0.79      6256\n",
            "\n",
            "    accuracy                           0.78     12500\n",
            "   macro avg       0.78      0.78      0.78     12500\n",
            "weighted avg       0.78      0.78      0.78     12500\n",
            "\n"
          ]
        },
        {
          "data": {
            "image/png": "[encoded data removed]",
            "text/plain": [
              "<Figure size 400x400 with 1 Axes>"
            ]
          },
          "metadata": {},
          "output_type": "display_data"
        }
      ],
      "source": [
        "RF = RandomForestClassifier()\n",
        "RF.fit(Train_X_Tfidf,y_train)\n",
        "\n",
        "predictions_RF = RF.predict(Test_X_Tfidf)\n",
        "\n",
        "print(classification_report(y_test,predictions_RF))\n",
        "cm_RF = confusion_matrix(y_test, predictions_RF)\n",
        "\n",
        "\n",
        "plt.figure(figsize=(4, 4))\n",
        "sns.heatmap(cm_RF, annot=True, fmt='d', cmap='Blues', cbar=False)\n",
        "plt.xlabel('Predicted Labels')\n",
        "plt.ylabel('True Labels')\n",
        "plt.title('Confusion Matrix')\n",
        "plt.show()"
      ]
    },
    {
      "cell_type": "code",
      "execution_count": null,
      "id": "afb06ee3-5ee7-42cd-bf85-e96c2405bbff",
      "metadata": {
        "id": "afb06ee3-5ee7-42cd-bf85-e96c2405bbff",
        "outputId": "17e2a7a6-3d67-434c-8d48-052e38636765"
      },
      "outputs": [
        {
          "name": "stdout",
          "output_type": "stream",
          "text": [
            "              precision    recall  f1-score   support\n",
            "\n",
            "           0       0.79      0.79      0.79      6244\n",
            "           1       0.79      0.78      0.79      6256\n",
            "\n",
            "    accuracy                           0.79     12500\n",
            "   macro avg       0.79      0.79      0.79     12500\n",
            "weighted avg       0.79      0.79      0.79     12500\n",
            "\n"
          ]
        },
        {
          "data": {
            "image/png": "[encoded data removed]",
            "text/plain": [
              "<Figure size 400x400 with 1 Axes>"
            ]
          },
          "metadata": {},
          "output_type": "display_data"
        }
      ],
      "source": [
        "LR = LogisticRegression()\n",
        "LR.fit(Train_X_Tfidf,y_train)\n",
        "\n",
        "predictions_LR = LR.predict(Test_X_Tfidf)\n",
        "\n",
        "print(classification_report(y_test,predictions_LR))\n",
        "cm_LR = confusion_matrix(y_test, predictions_LR)\n",
        "\n",
        "\n",
        "plt.figure(figsize=(4, 4))\n",
        "sns.heatmap(cm_LR, annot=True, fmt='d', cmap='Blues', cbar=False)\n",
        "plt.xlabel('Predicted Labels')\n",
        "plt.ylabel('True Labels')\n",
        "plt.title('Confusion Matrix of LogisticRegression')\n",
        "plt.show()"
      ]
    },
    {
      "cell_type": "code",
      "execution_count": null,
      "id": "9066de13-281b-4cfe-90e4-131ec3f63379",
      "metadata": {
        "id": "9066de13-281b-4cfe-90e4-131ec3f63379",
        "outputId": "076e89b7-1a47-4afe-b13e-6c6c820eecce"
      },
      "outputs": [
        {
          "name": "stdout",
          "output_type": "stream",
          "text": [
            "f1 score : 0.7875964010282777\n"
          ]
        }
      ],
      "source": [
        "print(\"f1 score :\", f1_score(y_test, predictions_LR))"
      ]
    },
    {
      "cell_type": "code",
      "execution_count": null,
      "id": "0b3100b4-85db-45bd-bd4f-1c5d6d2263c2",
      "metadata": {
        "scrolled": true,
        "id": "0b3100b4-85db-45bd-bd4f-1c5d6d2263c2",
        "outputId": "d3a76896-0b15-4746-a241-0a3708c9cc03"
      },
      "outputs": [
        {
          "name": "stdout",
          "output_type": "stream",
          "text": [
            "Training Accuracy : 0.9955733333333333\n",
            "Testing Accuracy : 0.8248\n",
            "              precision    recall  f1-score   support\n",
            "\n",
            "           0       0.79      0.77      0.78      6244\n",
            "           1       0.78      0.79      0.79      6256\n",
            "\n",
            "    accuracy                           0.78     12500\n",
            "   macro avg       0.78      0.78      0.78     12500\n",
            "weighted avg       0.78      0.78      0.78     12500\n",
            "\n"
          ]
        },
        {
          "data": {
            "image/png": "[encoded data removed]",
            "text/plain": [
              "<Figure size 400x400 with 1 Axes>"
            ]
          },
          "metadata": {},
          "output_type": "display_data"
        }
      ],
      "source": [
        "DT = DecisionTreeClassifier()\n",
        "DT.fit(Train_X_Tfidf,y_train)\n",
        "\n",
        "predictions_DT = DT.predict(Test_X_Tfidf)\n",
        "\n",
        "\n",
        "print(classification_report(y_test,predictions_DT))\n",
        "cm_DT = confusion_matrix(y_test, predictions_DT)\n",
        "\n",
        "\n",
        "plt.figure(figsize=(4, 4))\n",
        "sns.heatmap(cm_DT, annot=True, fmt='d', cmap='Blues', cbar=False)\n",
        "plt.xlabel('Predicted Labels')\n",
        "plt.ylabel('True Labels')\n",
        "plt.title('Confusion Matrix Decision Tree')\n",
        "plt.show()"
      ]
    },
    {
      "cell_type": "code",
      "execution_count": null,
      "id": "b4f2ee05-8b17-4bff-8b21-d388a3b26433",
      "metadata": {
        "id": "b4f2ee05-8b17-4bff-8b21-d388a3b26433",
        "outputId": "2591eb17-15a8-459d-f130-e3af8adef5dd"
      },
      "outputs": [
        {
          "name": "stdout",
          "output_type": "stream",
          "text": [
            "Training Accuracy : 0.9955733333333333\n",
            "Testing Accuracy : 0.77648\n",
            "              precision    recall  f1-score   support\n",
            "\n",
            "           0       0.75      0.81      0.78      6244\n",
            "           1       0.79      0.74      0.76      6256\n",
            "\n",
            "    accuracy                           0.77     12500\n",
            "   macro avg       0.77      0.77      0.77     12500\n",
            "weighted avg       0.77      0.77      0.77     12500\n",
            "\n"
          ]
        },
        {
          "data": {
            "image/png": "[encoded data removed]",
            "text/plain": [
              "<Figure size 400x400 with 1 Axes>"
            ]
          },
          "metadata": {},
          "output_type": "display_data"
        }
      ],
      "source": [
        "import xgboost as xgb\n",
        "xgb_classifier = xgb.XGBClassifier()\n",
        "xgb= xgb_classifier.fit(Train_X_Tfidf,y_train)\n",
        "\n",
        "predictions_xgb = xgb.predict(Test_X_Tfidf)\n",
        "\n",
        "\n",
        "print(classification_report(y_test,predictions_xgb))\n",
        "cm_xgb = confusion_matrix(y_test, predictions_xgb)\n",
        "plt.figure(figsize=(4, 4))\n",
        "sns.heatmap(cm_xgb, annot=True, fmt='d', cmap='Blues', cbar=False)\n",
        "plt.xlabel('Predicted Labels')\n",
        "plt.ylabel('True Labels')\n",
        "plt.title('Confusion Matrix')\n",
        "plt.show()"
      ]
    },
    {
      "cell_type": "code",
      "execution_count": null,
      "id": "86ecf0c3-b5b1-49fc-af29-3e5fd2f8fa9f",
      "metadata": {
        "id": "86ecf0c3-b5b1-49fc-af29-3e5fd2f8fa9f",
        "outputId": "ddf86690-8fbe-4d9d-a947-25f175ffc5b3"
      },
      "outputs": [
        {
          "name": "stdout",
          "output_type": "stream",
          "text": [
            "[LibSVM]              precision    recall  f1-score   support\n",
            "\n",
            "           0       0.78      0.79      0.79      6244\n",
            "           1       0.79      0.78      0.78      6256\n",
            "\n",
            "    accuracy                           0.79     12500\n",
            "   macro avg       0.79      0.79      0.79     12500\n",
            "weighted avg       0.79      0.79      0.79     12500\n",
            "\n"
          ]
        },
        {
          "data": {
            "image/png": "[encoded data removed]",
            "text/plain": [
              "<Figure size 400x400 with 1 Axes>"
            ]
          },
          "metadata": {},
          "output_type": "display_data"
        }
      ],
      "source": [
        "from sklearn import svm\n",
        "\n",
        "SVM = svm.SVC(C=1.0, kernel='linear', degree=3, gamma='auto',verbose=True)\n",
        "SVM.fit(Train_X_Tfidf,y_train)\n",
        "\n",
        "predictions_SVM = SVM.predict(Test_X_Tfidf)\n",
        "\n",
        "print(classification_report(y_test,predictions_SVM))\n",
        "cm_svm = confusion_matrix(y_test, predictions_SVM)\n",
        "plt.figure(figsize=(4, 4))\n",
        "sns.heatmap(cm_svm, annot=True, fmt='d', cmap='Blues', cbar=False)\n",
        "plt.xlabel('Predicted Labels')\n",
        "plt.ylabel('True Labels')\n",
        "plt.title('Confusion Matrix')\n",
        "plt.show()"
      ]
    },
    {
      "cell_type": "code",
      "execution_count": null,
      "id": "b9c4a00e-9f6a-4ef5-9b7e-b99f237f6647",
      "metadata": {
        "id": "b9c4a00e-9f6a-4ef5-9b7e-b99f237f6647",
        "outputId": "889107b2-7dd7-441f-f1fd-066237f64f16"
      },
      "outputs": [
        {
          "name": "stdout",
          "output_type": "stream",
          "text": [
            "Accuracy score of RF = 0.7843\n",
            "Accuracy score of DT = 0.7314\n",
            "Accuracy score of LR= 0.7885\n",
            "Accuracy score of SVM= 0.7860\n",
            "Accuracy score of XGB= 0.7720\n"
          ]
        }
      ],
      "source": [
        "print('Accuracy score of RF = {:.4f}'.format(RF.score(Test_X_Tfidf, y_test)))\n",
        "print('Accuracy score of DT = {:.4f}'.format(DT.score(Test_X_Tfidf, y_test)))\n",
        "print('Accuracy score of LR= {:.4f}'.format(LR.score(Test_X_Tfidf, y_test)))\n",
        "print('Accuracy score of SVM= {:.4f}'.format(SVM.score(Test_X_Tfidf, y_test)))\n",
        "print('Accuracy score of XGB= {:.4f}'.format(xgb_classifier.score(Test_X_Tfidf, y_test)))"
      ]
    },
    {
      "cell_type": "code",
      "execution_count": null,
      "id": "1ed6524d-60f7-441e-a644-5b0906df2340",
      "metadata": {
        "id": "1ed6524d-60f7-441e-a644-5b0906df2340",
        "outputId": "6d045524-b720-41a5-ff1e-fbf6afd77c61"
      },
      "outputs": [
        {
          "name": "stdout",
          "output_type": "stream",
          "text": [
            "[1]\n",
            "[0]\n",
            "[1]\n",
            "[1]\n",
            "[0]\n"
          ]
        }
      ],
      "source": [
        "sample = \"\"\n",
        "sample_tfidf = Tfidf_vect.transform([sample])\n",
        "print(RF.predict(sample_tfidf))\n",
        "print(DT.predict(sample_tfidf))\n",
        "print(LR.predict(sample_tfidf))\n",
        "print(SVM.predict(sample_tfidf))\n",
        "print(xgb_classifier.predict(sample_tfidf))"
      ]
    },
    {
      "cell_type": "code",
      "execution_count": null,
      "id": "e5e428c4-463d-48ce-ad5d-720723537748",
      "metadata": {
        "id": "e5e428c4-463d-48ce-ad5d-720723537748"
      },
      "outputs": [],
      "source": []
    }
  ],
  "metadata": {
    "kernelspec": {
      "display_name": "Python 3 (ipykernel)",
      "language": "python",
      "name": "python3"
    },
    "language_info": {
      "codemirror_mode": {
        "name": "ipython",
        "version": 3
      },
      "file_extension": ".py",
      "mimetype": "text/x-python",
      "name": "python",
      "nbconvert_exporter": "python",
      "pygments_lexer": "ipython3",
      "version": "3.12.4"
    },
    "colab": {
      "provenance": [],
      "include_colab_link": true
    }
  },
  "nbformat": 4,
  "nbformat_minor": 5
}